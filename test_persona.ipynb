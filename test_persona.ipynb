{
 "cells": [
  {
   "cell_type": "code",
   "execution_count": null,
   "metadata": {},
   "outputs": [],
   "source": [
    "# 创建7个persona的DataFrame\n",
    "persona_data = pd.DataFrame(\n",
    "    {\n",
    "        \"age\": [20, 30, 25, 23, 35, 28, 40],\n",
    "        \"income\": [15000, 40000, 30000, 20000, 45000, 32000, 50000],\n",
    "        \"education_level\": [\n",
    "            \"Undergraduate\",\n",
    "            \"Graduate\",\n",
    "            \"Undergraduate\",\n",
    "            \"Undergraduate\",\n",
    "            \"Graduate\",\n",
    "            \"Undergraduate\",\n",
    "            \"Graduate\",\n",
    "        ],\n",
    "        # 添加其他特征，确保包括所有重要特征\n",
    "        \"persona\": [\n",
    "            \"Back-to-school Mindy\",\n",
    "            \"City-hopper Sue\",\n",
    "            \"Up-and-comer Raj\",\n",
    "            \"Energetic Jill\",\n",
    "            \"Seaside Sally\",\n",
    "            \"Daypacker Tom\",\n",
    "            \"Hipster-mom Kami\",\n",
    "        ],\n",
    "    }\n",
    ")"
   ]
  },
  {
   "cell_type": "code",
   "execution_count": null,
   "metadata": {},
   "outputs": [],
   "source": [
    "# 定义重要特征\n",
    "important_features = feature_importance.index[:10]"
   ]
  },
  {
   "cell_type": "code",
   "execution_count": null,
   "metadata": {},
   "outputs": [],
   "source": [
    "# 补充缺失的重要特征\n",
    "for feature in important_features:\n",
    "    if feature not in persona_data.columns:\n",
    "        persona_data[feature] = 0  # 使用默认值或其他逻辑填充"
   ]
  },
  {
   "cell_type": "code",
   "execution_count": null,
   "metadata": {},
   "outputs": [],
   "source": [
    "# 转换为Tensor格式\n",
    "persona_tensor = torch.tensor(persona_data_encoded.values, dtype=torch.float32)\n",
    "\n",
    "# 模型预测\n",
    "with torch.no_grad():\n",
    "    outputs = model(persona_tensor)\n",
    "    _, predicted = torch.max(outputs, 1)\n",
    "\n",
    "# 输出预测结果\n",
    "persona_data[\"predicted_outcome\"] = predicted.numpy()\n",
    "print(persona_data[[\"persona\", \"predicted_outcome\"]])"
   ]
  }
 ],
 "metadata": {
  "language_info": {
   "name": "python"
  }
 },
 "nbformat": 4,
 "nbformat_minor": 2
}
